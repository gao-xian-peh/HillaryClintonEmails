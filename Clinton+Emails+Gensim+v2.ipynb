{
 "cells": [
  {
   "cell_type": "markdown",
   "metadata": {},
   "source": [
    "# Gensim on Clinton Emails, and PCA\n",
    "This Notebook attempts to use gensim to create Word2Vec Representations of a number of Clinton Emails and its words. Then, after running Gensim, it aims to reduce its dimensionality to 2, to see and analyze different clustering of similiarity of words in regards to their contextual usage"
   ]
  },
  {
   "cell_type": "markdown",
   "metadata": {},
   "source": [
    "## Reading and Cleaning Data"
   ]
  },
  {
   "cell_type": "markdown",
   "metadata": {},
   "source": [
    "First, importing the necessary packages/modules:"
   ]
  },
  {
   "cell_type": "code",
   "execution_count": 1,
   "metadata": {
    "collapsed": false
   },
   "outputs": [],
   "source": [
    "import pandas as pd\n",
    "import gensim\n",
    "import gensim.models\n",
    "from gensim.models import Word2Vec\n",
    "import re\n",
    "import nltk.data\n",
    "import matplotlib.pyplot as plt\n",
    "%matplotlib inline\n",
    "import string\n",
    "from sklearn.decomposition import PCA\n"
   ]
  },
  {
   "cell_type": "markdown",
   "metadata": {},
   "source": [
    "Reading Clinton Emails Data from Kaggle; we can see RawText column is where the textual data is at"
   ]
  },
  {
   "cell_type": "code",
   "execution_count": 2,
   "metadata": {
    "collapsed": false
   },
   "outputs": [
    {
     "data": {
      "text/html": [
       "<div>\n",
       "<table border=\"1\" class=\"dataframe\">\n",
       "  <thead>\n",
       "    <tr style=\"text-align: right;\">\n",
       "      <th></th>\n",
       "      <th>Id</th>\n",
       "      <th>DocNumber</th>\n",
       "      <th>MetadataSubject</th>\n",
       "      <th>MetadataTo</th>\n",
       "      <th>MetadataFrom</th>\n",
       "      <th>SenderPersonId</th>\n",
       "      <th>MetadataDateSent</th>\n",
       "      <th>MetadataDateReleased</th>\n",
       "      <th>MetadataPdfLink</th>\n",
       "      <th>MetadataCaseNumber</th>\n",
       "      <th>...</th>\n",
       "      <th>ExtractedTo</th>\n",
       "      <th>ExtractedFrom</th>\n",
       "      <th>ExtractedCc</th>\n",
       "      <th>ExtractedDateSent</th>\n",
       "      <th>ExtractedCaseNumber</th>\n",
       "      <th>ExtractedDocNumber</th>\n",
       "      <th>ExtractedDateReleased</th>\n",
       "      <th>ExtractedReleaseInPartOrFull</th>\n",
       "      <th>ExtractedBodyText</th>\n",
       "      <th>RawText</th>\n",
       "    </tr>\n",
       "  </thead>\n",
       "  <tbody>\n",
       "    <tr>\n",
       "      <th>0</th>\n",
       "      <td>1</td>\n",
       "      <td>C05739545</td>\n",
       "      <td>WOW</td>\n",
       "      <td>H</td>\n",
       "      <td>Sullivan, Jacob J</td>\n",
       "      <td>87.0</td>\n",
       "      <td>2012-09-12T04:00:00+00:00</td>\n",
       "      <td>2015-05-22T04:00:00+00:00</td>\n",
       "      <td>DOCUMENTS/HRC_Email_1_296/HRCH2/DOC_0C05739545...</td>\n",
       "      <td>F-2015-04841</td>\n",
       "      <td>...</td>\n",
       "      <td>NaN</td>\n",
       "      <td>Sullivan, Jacob J &lt;Sullivan11@state.gov&gt;</td>\n",
       "      <td>NaN</td>\n",
       "      <td>Wednesday, September 12, 2012 10:16 AM</td>\n",
       "      <td>F-2015-04841</td>\n",
       "      <td>C05739545</td>\n",
       "      <td>05/13/2015</td>\n",
       "      <td>RELEASE IN FULL</td>\n",
       "      <td>NaN</td>\n",
       "      <td>UNCLASSIFIED\\nU.S. Department of State\\nCase N...</td>\n",
       "    </tr>\n",
       "    <tr>\n",
       "      <th>1</th>\n",
       "      <td>2</td>\n",
       "      <td>C05739546</td>\n",
       "      <td>H: LATEST: HOW SYRIA IS AIDING QADDAFI AND MOR...</td>\n",
       "      <td>H</td>\n",
       "      <td>NaN</td>\n",
       "      <td>NaN</td>\n",
       "      <td>2011-03-03T05:00:00+00:00</td>\n",
       "      <td>2015-05-22T04:00:00+00:00</td>\n",
       "      <td>DOCUMENTS/HRC_Email_1_296/HRCH1/DOC_0C05739546...</td>\n",
       "      <td>F-2015-04841</td>\n",
       "      <td>...</td>\n",
       "      <td>NaN</td>\n",
       "      <td>NaN</td>\n",
       "      <td>NaN</td>\n",
       "      <td>NaN</td>\n",
       "      <td>F-2015-04841</td>\n",
       "      <td>C05739546</td>\n",
       "      <td>05/13/2015</td>\n",
       "      <td>RELEASE IN PART</td>\n",
       "      <td>B6\\nThursday, March 3, 2011 9:45 PM\\nH: Latest...</td>\n",
       "      <td>UNCLASSIFIED\\nU.S. Department of State\\nCase N...</td>\n",
       "    </tr>\n",
       "    <tr>\n",
       "      <th>2</th>\n",
       "      <td>3</td>\n",
       "      <td>C05739547</td>\n",
       "      <td>CHRIS STEVENS</td>\n",
       "      <td>;H</td>\n",
       "      <td>Mills, Cheryl D</td>\n",
       "      <td>32.0</td>\n",
       "      <td>2012-09-12T04:00:00+00:00</td>\n",
       "      <td>2015-05-22T04:00:00+00:00</td>\n",
       "      <td>DOCUMENTS/HRC_Email_1_296/HRCH2/DOC_0C05739547...</td>\n",
       "      <td>F-2015-04841</td>\n",
       "      <td>...</td>\n",
       "      <td>B6</td>\n",
       "      <td>Mills, Cheryl D &lt;MillsCD@state.gov&gt;</td>\n",
       "      <td>Abedin, Huma</td>\n",
       "      <td>Wednesday, September 12, 2012 11:52 AM</td>\n",
       "      <td>F-2015-04841</td>\n",
       "      <td>C05739547</td>\n",
       "      <td>05/14/2015</td>\n",
       "      <td>RELEASE IN PART</td>\n",
       "      <td>Thx</td>\n",
       "      <td>UNCLASSIFIED\\nU.S. Department of State\\nCase N...</td>\n",
       "    </tr>\n",
       "    <tr>\n",
       "      <th>3</th>\n",
       "      <td>4</td>\n",
       "      <td>C05739550</td>\n",
       "      <td>CAIRO CONDEMNATION - FINAL</td>\n",
       "      <td>H</td>\n",
       "      <td>Mills, Cheryl D</td>\n",
       "      <td>32.0</td>\n",
       "      <td>2012-09-12T04:00:00+00:00</td>\n",
       "      <td>2015-05-22T04:00:00+00:00</td>\n",
       "      <td>DOCUMENTS/HRC_Email_1_296/HRCH2/DOC_0C05739550...</td>\n",
       "      <td>F-2015-04841</td>\n",
       "      <td>...</td>\n",
       "      <td>NaN</td>\n",
       "      <td>Mills, Cheryl D &lt;MillsCD@state.gov&gt;</td>\n",
       "      <td>Mitchell, Andrew B</td>\n",
       "      <td>Wednesday, September 12,2012 12:44 PM</td>\n",
       "      <td>F-2015-04841</td>\n",
       "      <td>C05739550</td>\n",
       "      <td>05/13/2015</td>\n",
       "      <td>RELEASE IN PART</td>\n",
       "      <td>NaN</td>\n",
       "      <td>UNCLASSIFIED\\nU.S. Department of State\\nCase N...</td>\n",
       "    </tr>\n",
       "    <tr>\n",
       "      <th>4</th>\n",
       "      <td>5</td>\n",
       "      <td>C05739554</td>\n",
       "      <td>H: LATEST: HOW SYRIA IS AIDING QADDAFI AND MOR...</td>\n",
       "      <td>Abedin, Huma</td>\n",
       "      <td>H</td>\n",
       "      <td>80.0</td>\n",
       "      <td>2011-03-11T05:00:00+00:00</td>\n",
       "      <td>2015-05-22T04:00:00+00:00</td>\n",
       "      <td>DOCUMENTS/HRC_Email_1_296/HRCH1/DOC_0C05739554...</td>\n",
       "      <td>F-2015-04841</td>\n",
       "      <td>...</td>\n",
       "      <td>NaN</td>\n",
       "      <td>NaN</td>\n",
       "      <td>NaN</td>\n",
       "      <td>NaN</td>\n",
       "      <td>F-2015-04841</td>\n",
       "      <td>C05739554</td>\n",
       "      <td>05/13/2015</td>\n",
       "      <td>RELEASE IN PART</td>\n",
       "      <td>H &lt;hrod17@clintonemail.com&gt;\\nFriday, March 11,...</td>\n",
       "      <td>B6\\nUNCLASSIFIED\\nU.S. Department of State\\nCa...</td>\n",
       "    </tr>\n",
       "  </tbody>\n",
       "</table>\n",
       "<p>5 rows × 22 columns</p>\n",
       "</div>"
      ],
      "text/plain": [
       "   Id  DocNumber                                    MetadataSubject  \\\n",
       "0   1  C05739545                                                WOW   \n",
       "1   2  C05739546  H: LATEST: HOW SYRIA IS AIDING QADDAFI AND MOR...   \n",
       "2   3  C05739547                                      CHRIS STEVENS   \n",
       "3   4  C05739550                         CAIRO CONDEMNATION - FINAL   \n",
       "4   5  C05739554  H: LATEST: HOW SYRIA IS AIDING QADDAFI AND MOR...   \n",
       "\n",
       "     MetadataTo       MetadataFrom  SenderPersonId           MetadataDateSent  \\\n",
       "0             H  Sullivan, Jacob J            87.0  2012-09-12T04:00:00+00:00   \n",
       "1             H                NaN             NaN  2011-03-03T05:00:00+00:00   \n",
       "2            ;H    Mills, Cheryl D            32.0  2012-09-12T04:00:00+00:00   \n",
       "3             H    Mills, Cheryl D            32.0  2012-09-12T04:00:00+00:00   \n",
       "4  Abedin, Huma                  H            80.0  2011-03-11T05:00:00+00:00   \n",
       "\n",
       "        MetadataDateReleased  \\\n",
       "0  2015-05-22T04:00:00+00:00   \n",
       "1  2015-05-22T04:00:00+00:00   \n",
       "2  2015-05-22T04:00:00+00:00   \n",
       "3  2015-05-22T04:00:00+00:00   \n",
       "4  2015-05-22T04:00:00+00:00   \n",
       "\n",
       "                                     MetadataPdfLink MetadataCaseNumber  \\\n",
       "0  DOCUMENTS/HRC_Email_1_296/HRCH2/DOC_0C05739545...       F-2015-04841   \n",
       "1  DOCUMENTS/HRC_Email_1_296/HRCH1/DOC_0C05739546...       F-2015-04841   \n",
       "2  DOCUMENTS/HRC_Email_1_296/HRCH2/DOC_0C05739547...       F-2015-04841   \n",
       "3  DOCUMENTS/HRC_Email_1_296/HRCH2/DOC_0C05739550...       F-2015-04841   \n",
       "4  DOCUMENTS/HRC_Email_1_296/HRCH1/DOC_0C05739554...       F-2015-04841   \n",
       "\n",
       "                         ...                         ExtractedTo  \\\n",
       "0                        ...                                 NaN   \n",
       "1                        ...                                 NaN   \n",
       "2                        ...                                  B6   \n",
       "3                        ...                                 NaN   \n",
       "4                        ...                                 NaN   \n",
       "\n",
       "                              ExtractedFrom         ExtractedCc  \\\n",
       "0  Sullivan, Jacob J <Sullivan11@state.gov>                 NaN   \n",
       "1                                       NaN                 NaN   \n",
       "2       Mills, Cheryl D <MillsCD@state.gov>        Abedin, Huma   \n",
       "3       Mills, Cheryl D <MillsCD@state.gov>  Mitchell, Andrew B   \n",
       "4                                       NaN                 NaN   \n",
       "\n",
       "                        ExtractedDateSent ExtractedCaseNumber  \\\n",
       "0  Wednesday, September 12, 2012 10:16 AM        F-2015-04841   \n",
       "1                                     NaN        F-2015-04841   \n",
       "2  Wednesday, September 12, 2012 11:52 AM        F-2015-04841   \n",
       "3   Wednesday, September 12,2012 12:44 PM        F-2015-04841   \n",
       "4                                     NaN        F-2015-04841   \n",
       "\n",
       "  ExtractedDocNumber ExtractedDateReleased ExtractedReleaseInPartOrFull  \\\n",
       "0          C05739545            05/13/2015              RELEASE IN FULL   \n",
       "1          C05739546            05/13/2015              RELEASE IN PART   \n",
       "2          C05739547            05/14/2015              RELEASE IN PART   \n",
       "3          C05739550            05/13/2015              RELEASE IN PART   \n",
       "4          C05739554            05/13/2015              RELEASE IN PART   \n",
       "\n",
       "                                   ExtractedBodyText  \\\n",
       "0                                                NaN   \n",
       "1  B6\\nThursday, March 3, 2011 9:45 PM\\nH: Latest...   \n",
       "2                                                Thx   \n",
       "3                                                NaN   \n",
       "4  H <hrod17@clintonemail.com>\\nFriday, March 11,...   \n",
       "\n",
       "                                             RawText  \n",
       "0  UNCLASSIFIED\\nU.S. Department of State\\nCase N...  \n",
       "1  UNCLASSIFIED\\nU.S. Department of State\\nCase N...  \n",
       "2  UNCLASSIFIED\\nU.S. Department of State\\nCase N...  \n",
       "3  UNCLASSIFIED\\nU.S. Department of State\\nCase N...  \n",
       "4  B6\\nUNCLASSIFIED\\nU.S. Department of State\\nCa...  \n",
       "\n",
       "[5 rows x 22 columns]"
      ]
     },
     "execution_count": 2,
     "metadata": {},
     "output_type": "execute_result"
    }
   ],
   "source": [
    "data = pd.read_csv(\"../data/clinton/Emails.csv\")\n",
    "data.head()"
   ]
  },
  {
   "cell_type": "code",
   "execution_count": 3,
   "metadata": {
    "collapsed": false
   },
   "outputs": [
    {
     "data": {
      "text/plain": [
       "'UNCLASSIFIED\\nU.S. Department of State\\nCase No. F-2015-04841\\nDoc No. C05739545\\nDate: 05/13/2015\\nSTATE DEPT. - PRODUCED TO HOUSE SELECT BENGHAZI COMM.\\nSUBJECT TO AGREEMENT ON SENSITIVE INFORMATION & REDACTIONS. NO FOIA WAIVER.\\nRELEASE IN FULL\\nFrom: Sullivan, Jacob J <Sullivan11@state.gov>\\nSent: Wednesday, September 12, 2012 10:16 AM\\nTo:\\nSubject: FW: Wow\\nFrom: Brose, Christian (Armed Services) (mailto:Christian_Brose@armed-servic,essenate.govi\\nSent: Wednesday, September 12, 2012 10:09 AM\\nTo: Sullivan, Jacob J\\nSubject: Wow\\nWhat a wonderful, strong and moving statement by your boss. please tell her how much Sen. McCain appreciated it. Me\\ntoo\\nUNCLASSIFIED\\nU.S. Department of State\\nCase No. F-2015-04841\\nDoc No. C05739545\\nDate: 05/13/2015\\nSTATE DEPT. - PRODUCED TO HOUSE SELECT BENGHAZI COMM.\\nSUBJECT TO AGREEMENT ON SENSITIVE INFORMATION & REDACTIONS. NO FOIA WAIVER. STATE-5CB0045247\\n\\x0c UNCLASSIFIED\\nU.S. Department of State\\nCase No. F-2015-04841\\nDoc No. C05739546\\nDate: 05/13/2015\\nSTATE DEPT. - PRODUCED TO HOUSE SELECT BENGHAZI COMM.\\nSUBJECT TO AGREEMENT ON SENSITIVE INFORMATION & REDACTIONS. NO FOIA WAIVER.\\nRELEASE IN\\nPART B6\\nFrom:\\nSent:\\nTo:\\nSubject:\\nAttachments:\\nB6\\nThursday, March 3, 2011 9:45 PM\\nH: Latest How Syria is aiding Qaddafi and more... Sid\\nhrc memo syria aiding libya 030311.docx; hrc memo syria aiding libya 030311.docx\\nCONFIDENTIAL\\nMarch 3, 2011\\nFor: Hillary\\nFrom: Sid\\nRe: Syria aiding Qaddafi\\nThis memo has two parts. Part one is the report that Syria is providing air support for Qaddafi. Part two is a note\\nto Cody from Lord David Owen, former UK foreign secretary on his views of an increasingly complex crisis. It\\nseems that the situation is developing into a protracted civil war with various nations backing opposing sides\\nwith unforeseen consequences. Under these circumstances the crucial challenge is to deprive Qaddafi of his\\nstrategic depth—his support both financial and military.\\nI. Report\\nDuring the afternoon of March 3, advisers to Muammar Qaddafi stated privat'"
      ]
     },
     "execution_count": 3,
     "metadata": {},
     "output_type": "execute_result"
    }
   ],
   "source": [
    "#Joining all the text in that column\n",
    "rawtext = data[\"RawText\"]\n",
    "corpus = \" \".join(rawtext)\n",
    "corpus[:2000]"
   ]
  },
  {
   "cell_type": "markdown",
   "metadata": {},
   "source": [
    "## Cleaning Data"
   ]
  },
  {
   "cell_type": "markdown",
   "metadata": {},
   "source": [
    "Removing stopwords and various clutter through regular expressions"
   ]
  },
  {
   "cell_type": "code",
   "execution_count": 4,
   "metadata": {
    "collapsed": false
   },
   "outputs": [
    {
     "data": {
      "text/plain": [
       "' Case No. F-2015-04841 Doc No. C05739545 Date: 05/13/2015  RELEASE IN FULL From: Sullivan, Jacob J <Sullivan11@state.gov> Sent: Wednesday, September 12, 2012 10:16 AM To: Subject: FW: Wow From: Brose, Christian (Armed Services) (mailto:Christian_Brose@armed-servic,essenate.govi Sent: Wednesday, September 12, 2012 10:09 AM To: Sullivan, Jacob J Subject: Wow What a wonderful, strong and moving statement by your boss. please tell her how much Sen. McCain appreciated it. Me too  Case No. F-2015-04841 Doc No. C05739545 Date: 05/13/2015  STATE-5CB0045247   Case No. F-2015-04841 Doc No. C05739546 Date: 05/13/2015  RELEASE IN PART B6 From: Sent: To: Subject: Attachments: B6 Thursday, March 3, 2011 9:45 PM H: Latest How Syria is aiding Qaddafi and more... Sid hrc memo syria aiding libya 030311.docx; hrc memo syria aiding libya 030311.docx CONFIDENTIAL March 3, 2011 For: Hillary From: Sid Re: Syria aiding Qaddafi This memo has two parts. Part one is the report that Syria is providing air support for Qaddafi. Part two is a note to Cody from Lord David Owen, former UK foreign secretary on his views of an increasingly complex crisis. It seems that the situation is developing into a protracted civil war with various nations backing opposing sides with unforeseen consequences. Under these circumstances the crucial challenge is to deprive Qaddafi of his strategic depth—his support both financial and military. I. Report During the afternoon of March 3, advisers to Muammar Qaddafi stated privately that the Libyan Leader has decided that civil war is inevitable, pitting troops and mercenary troops loyal to him against the rebel forces gathering around Benghazi. Qaddafi is convinced that these rebels are being supported by the United States, Western Europe and Israel. On March 2 Qaddafi told his son Saif al-Islam that he believes the intelligence services of the United States, Great Britain, Egypt, and France have deployed paramilitary officers to Benghazi to assist in organizing, trai'"
      ]
     },
     "execution_count": 4,
     "metadata": {},
     "output_type": "execute_result"
    }
   ],
   "source": [
    "#Preliminary Cleaning of special characters (not yet removing stopwords, remove after sentences are split)\n",
    "clean_corp = (corpus.replace(\"\\n\", \" \")).replace(\"\\x0c\", \"\")\n",
    "clean_corp = re.sub('STATE DEPT. - PRODUCED TO HOUSE SELECT BENGHAZI COMM. SUBJECT TO AGREEMENT ON SENSITIVE INFORMATION & REDACTIONS. NO FOIA WAIVER.', \n",
    "                    \"\", clean_corp)\n",
    "clean_corp = re.sub('UNCLASSIFIED U.S. Department of State', \"\", clean_corp)\n",
    "\n",
    "clean_corp[:2000]\n"
   ]
  },
  {
   "cell_type": "markdown",
   "metadata": {
    "collapsed": true
   },
   "source": [
    "## Some Descriptive Statistics about the Dataset"
   ]
  },
  {
   "cell_type": "code",
   "execution_count": 5,
   "metadata": {
    "collapsed": false
   },
   "outputs": [
    {
     "data": {
      "text/plain": [
       "162853"
      ]
     },
     "execution_count": 5,
     "metadata": {},
     "output_type": "execute_result"
    }
   ],
   "source": [
    "#Number of Sentences\n",
    "tokenizer = nltk.data.load('tokenizers/punkt/english.pickle')\n",
    "sentences = tokenizer.tokenize(clean_corp)\n",
    "len(sentences)"
   ]
  },
  {
   "cell_type": "code",
   "execution_count": 6,
   "metadata": {
    "collapsed": false
   },
   "outputs": [
    {
     "data": {
      "text/plain": [
       "2850367"
      ]
     },
     "execution_count": 6,
     "metadata": {},
     "output_type": "execute_result"
    }
   ],
   "source": [
    "#Number of Words (before removing stopwords)\n",
    "split_sent = [re.split('\\s+', sent) for sent in sentences]\n",
    "bef_num_words = [len(sent) for sent in split_sent]\n",
    "sum(bef_num_words)"
   ]
  },
  {
   "cell_type": "code",
   "execution_count": 7,
   "metadata": {
    "collapsed": false
   },
   "outputs": [
    {
     "data": {
      "text/plain": [
       "[['case', 'no'],\n",
       " ['f201504841', 'doc', 'no'],\n",
       " ['c05739545',\n",
       "  'date',\n",
       "  '05132015',\n",
       "  'releas',\n",
       "  'in',\n",
       "  'full',\n",
       "  'from',\n",
       "  'sullivan',\n",
       "  'jacob',\n",
       "  'j',\n",
       "  'sullivan11stategov',\n",
       "  'sent',\n",
       "  'wednesdai',\n",
       "  'septemb',\n",
       "  '12',\n",
       "  '2012',\n",
       "  '1016',\n",
       "  'am',\n",
       "  'to',\n",
       "  'subject',\n",
       "  'fw',\n",
       "  'wow',\n",
       "  'from',\n",
       "  'brose',\n",
       "  'christian',\n",
       "  'arm',\n",
       "  'servic',\n",
       "  'mailtochristian_brosearmedservicessenategovi',\n",
       "  'sent',\n",
       "  'wednesdai',\n",
       "  'septemb',\n",
       "  '12',\n",
       "  '2012',\n",
       "  '1009',\n",
       "  'am',\n",
       "  'to',\n",
       "  'sullivan',\n",
       "  'jacob',\n",
       "  'j',\n",
       "  'subject',\n",
       "  'wow',\n",
       "  'what',\n",
       "  'wonder',\n",
       "  'strong',\n",
       "  'move',\n",
       "  'statement',\n",
       "  'boss'],\n",
       " ['tell', 'sen', 'mccain', 'appreci', 'it'],\n",
       " ['me', 'case', 'no']]"
      ]
     },
     "execution_count": 7,
     "metadata": {},
     "output_type": "execute_result"
    }
   ],
   "source": [
    "#Removing stopwords, punctuation, Stemming text, and splitting stemmed words by spaces to create number of words\n",
    "#per sentence\n",
    "split_sentences = [gensim.parsing.preprocessing.remove_stopwords(sent) for sent in sentences]\n",
    "split_sentences = [re.sub(r'[^\\w\\s]','',s) for s in split_sentences]\n",
    "split_sentences = [gensim.parsing.preprocessing.stem_text(sent) for sent in split_sentences]\n",
    "split_sentences = [re.split('\\s+', sent) for sent in split_sentences]\n",
    "split_sentences[0:5]"
   ]
  },
  {
   "cell_type": "code",
   "execution_count": 8,
   "metadata": {
    "collapsed": false
   },
   "outputs": [
    {
     "data": {
      "text/plain": [
       "1911912"
      ]
     },
     "execution_count": 8,
     "metadata": {},
     "output_type": "execute_result"
    }
   ],
   "source": [
    "#Number of words to be put into Word2Vec (so after removing stopwords & stemming)\n",
    "aft_num_words = [len(sent) for sent in split_sentences]\n",
    "sum(aft_num_words)"
   ]
  },
  {
   "cell_type": "markdown",
   "metadata": {},
   "source": [
    "## Running the Model"
   ]
  },
  {
   "cell_type": "code",
   "execution_count": 9,
   "metadata": {
    "collapsed": false
   },
   "outputs": [],
   "source": [
    "#sg = 1 skipgram = T basically\n",
    "#size = 50\n",
    "#windows = 4\n",
    "model = Word2Vec(split_sentences, min_count = 5, size= 100, window = 4, sg = 1)\n"
   ]
  },
  {
   "cell_type": "code",
   "execution_count": 10,
   "metadata": {
    "collapsed": false
   },
   "outputs": [
    {
     "data": {
      "text/plain": [
       "16129"
      ]
     },
     "execution_count": 10,
     "metadata": {},
     "output_type": "execute_result"
    }
   ],
   "source": [
    "#Number of embedded words (unique)\n",
    "vocab = list(model.vocab.keys()) #All the unique vocabularies\n",
    "len(vocab)"
   ]
  },
  {
   "cell_type": "code",
   "execution_count": 11,
   "metadata": {
    "collapsed": false
   },
   "outputs": [
    {
     "data": {
      "text/plain": [
       "[array([ -4.35153488e-03,  -1.48640727e-04,   2.69790343e-03,\n",
       "          2.38216901e-03,  -1.87105767e-03,  -5.55783045e-04,\n",
       "          3.96852382e-03,  -4.27124137e-03,   2.75490782e-03,\n",
       "         -1.66829734e-03,  -8.60037457e-04,   3.25840665e-03,\n",
       "         -3.92237864e-03,   4.52659512e-03,   2.08358560e-03,\n",
       "         -4.71105892e-03,   6.00425003e-04,  -8.95293080e-04,\n",
       "          4.02422016e-03,  -1.59751880e-03,  -9.68050270e-04,\n",
       "         -1.83085853e-03,  -2.72934674e-03,   6.72419614e-04,\n",
       "         -7.67186109e-04,   4.19479702e-03,   7.66559271e-04,\n",
       "          4.92259255e-03,   1.23242917e-03,  -4.14540106e-03,\n",
       "          3.49235209e-03,   9.56986740e-04,   3.00518889e-03,\n",
       "         -4.44373727e-04,  -1.22517021e-03,   4.38700983e-04,\n",
       "         -4.42031166e-03,   4.30694036e-03,   5.87967748e-04,\n",
       "         -1.05248590e-03,   3.62073840e-03,  -5.18041488e-05,\n",
       "          3.33598495e-04,   3.63486283e-03,   3.67365102e-03,\n",
       "         -4.61047702e-03,   4.42181155e-03,   2.49187869e-04,\n",
       "         -2.79498519e-03,  -3.23516736e-03,  -3.95599869e-04,\n",
       "          5.69960219e-04,  -1.79637142e-03,  -2.05547130e-03,\n",
       "          6.83738908e-04,   3.17909964e-03,  -2.12185131e-03,\n",
       "          4.94035310e-04,   2.69022916e-04,   4.04786842e-04,\n",
       "         -3.61215463e-03,  -3.21229501e-03,   1.83925137e-03,\n",
       "         -4.04761638e-03,  -2.51709600e-03,   2.43019313e-03,\n",
       "          1.20358204e-03,   3.16889654e-03,   9.11496812e-04,\n",
       "          6.30922674e-04,  -4.06088633e-03,   4.21432732e-03,\n",
       "         -5.23358933e-04,   4.84341709e-03,  -2.73503526e-03,\n",
       "          2.87623354e-03,   3.58389970e-03,  -1.03825680e-03,\n",
       "          3.89276724e-03,  -1.01327884e-03,  -1.19623099e-03,\n",
       "         -1.64673702e-06,  -2.11707875e-03,  -2.61703011e-04,\n",
       "          4.46631061e-03,  -6.09857161e-05,   4.01740836e-04,\n",
       "          1.35102845e-03,  -2.96671898e-03,  -1.57530070e-03,\n",
       "          2.09224480e-03,   2.83703906e-03,  -1.26656727e-03,\n",
       "          9.56970209e-04,   3.54380882e-03,  -3.40355630e-03,\n",
       "          3.13310185e-03,   4.33150679e-03,  -1.85447885e-03,\n",
       "          1.35962642e-03], dtype=float32),\n",
       " array([-0.3756853 , -0.067991  , -0.0481527 , -0.00410114, -0.15250331,\n",
       "         0.10947275, -0.00518162, -0.16688178,  0.11655948, -0.24355523,\n",
       "        -0.10236683, -0.03164527,  0.05965377, -0.05045512,  0.01983424,\n",
       "         0.02151475, -0.14794141,  0.03409549, -0.1469388 , -0.08236817,\n",
       "        -0.12733251, -0.30883521,  0.11672141,  0.03282226,  0.11939162,\n",
       "        -0.11315747, -0.04709122,  0.06098392,  0.11225004, -0.14509828,\n",
       "         0.09316769, -0.05010017,  0.07935541,  0.06234085, -0.07706992,\n",
       "         0.05244585,  0.14922839,  0.12561993,  0.0599697 , -0.17527099,\n",
       "        -0.10099859, -0.19451733,  0.14467782,  0.08350824, -0.04831874,\n",
       "         0.16940616,  0.0285356 ,  0.0267125 , -0.21799342, -0.23583326,\n",
       "         0.03627237, -0.22479057,  0.09105807,  0.1094698 , -0.2407307 ,\n",
       "        -0.05902335,  0.08564685,  0.16783972, -0.17298307, -0.06882354,\n",
       "         0.04231262, -0.03292003,  0.13020135, -0.12687182, -0.08877768,\n",
       "        -0.08059529,  0.14114662, -0.15795769,  0.02785412,  0.04613027,\n",
       "         0.03334788, -0.09095929, -0.01340289,  0.04332013,  0.11491029,\n",
       "        -0.01533441,  0.14843252,  0.26549831,  0.00668328,  0.09796442,\n",
       "        -0.13126488,  0.03523421, -0.07936268,  0.08220568,  0.1624479 ,\n",
       "        -0.00738123, -0.13204367, -0.16297074,  0.09093217, -0.1315292 ,\n",
       "        -0.16051024, -0.04819949,  0.11081024,  0.04099802, -0.1149204 ,\n",
       "        -0.12171528, -0.05960782, -0.03428813, -0.07914055, -0.20216382], dtype=float32),\n",
       " array([ -8.59786719e-02,  -5.99816209e-03,   8.40092897e-02,\n",
       "         -1.38236150e-01,  -4.40978408e-01,   3.15876165e-03,\n",
       "          9.47466400e-03,   2.17401069e-02,   8.88102129e-02,\n",
       "         -2.77618706e-01,  -2.32001916e-01,   1.12859391e-01,\n",
       "          1.01433262e-01,   2.62653679e-01,   4.60068524e-01,\n",
       "         -2.11742848e-01,  -1.33333281e-01,   1.44790887e-04,\n",
       "          6.58007860e-02,  -7.26713166e-02,  -1.46746919e-01,\n",
       "         -5.12457311e-01,  -4.61652167e-02,  -2.17414930e-01,\n",
       "          2.76652426e-01,  -1.67003587e-01,   2.61199661e-02,\n",
       "         -5.35542890e-02,   1.59202233e-01,  -4.27969843e-01,\n",
       "          7.11132884e-02,  -1.81797981e-01,  -2.68878192e-01,\n",
       "          1.68860942e-01,  -4.89185490e-02,  -3.13511640e-02,\n",
       "          1.80333793e-01,   6.20593540e-02,   1.42903998e-01,\n",
       "         -7.93478116e-02,  -2.77876202e-03,  -1.51838869e-01,\n",
       "          3.06418806e-01,   2.73585469e-01,  -9.46653187e-02,\n",
       "          3.47901851e-01,   8.77493247e-02,   1.07172146e-01,\n",
       "         -2.23269254e-01,  -8.13077688e-02,  -3.01107287e-01,\n",
       "         -4.19307679e-01,   1.17918672e-02,   2.72213340e-01,\n",
       "         -2.16526717e-01,  -1.79442130e-02,   2.69772917e-01,\n",
       "         -1.49538904e-01,   1.68068379e-01,   3.66899729e-01,\n",
       "          3.11233640e-01,  -1.85978651e-01,   4.20257866e-01,\n",
       "          3.08363497e-01,  -4.63267088e-01,  -8.95059779e-02,\n",
       "          2.82312095e-01,   2.55552649e-01,  -1.48333028e-01,\n",
       "          2.40854651e-01,  -3.37592930e-01,  -9.04484391e-02,\n",
       "          1.33887768e-01,  -3.08960117e-02,   5.62975034e-02,\n",
       "          1.32234572e-02,  -1.86322033e-01,   3.14204514e-01,\n",
       "          2.36413002e-01,   9.56825167e-03,   3.97049040e-01,\n",
       "          2.97766691e-03,  -9.47743207e-02,   1.34057507e-01,\n",
       "          2.21282899e-01,  -2.25919276e-03,  -5.18581048e-02,\n",
       "         -1.15769200e-01,  -1.84525512e-02,  -3.35319489e-01,\n",
       "          6.91522360e-02,  -1.24501914e-01,   3.16057354e-01,\n",
       "          3.47851396e-01,  -2.32095823e-01,  -1.49890184e-02,\n",
       "         -4.52666618e-02,   7.93331712e-02,   2.35041142e-01,\n",
       "         -3.36830705e-01], dtype=float32),\n",
       " array([-0.25380218, -0.09357012, -0.33712676,  0.1660932 , -0.59865808,\n",
       "        -0.5448091 , -0.57048684, -0.51392299,  0.06316783, -0.33662197,\n",
       "         0.18559676,  0.07618067,  0.38404343,  0.21922478, -0.19688512,\n",
       "        -0.29223517,  0.00617098, -0.52393442, -0.2448561 ,  0.31037581,\n",
       "        -0.13421236, -0.19218542,  0.13165192,  0.1011496 ,  0.1690135 ,\n",
       "         0.20517544,  0.15700646,  0.66281843,  0.36425522, -0.17034772,\n",
       "         0.2973823 ,  0.0264588 ,  0.19604214,  0.55600536, -0.32125911,\n",
       "         0.45315835,  0.45731604,  0.39362538, -0.82019353, -0.54881454,\n",
       "        -0.03644143, -0.20895776,  0.47184667, -0.19932689,  0.10982065,\n",
       "         0.41252327, -0.20040394, -0.15986052, -0.26322165, -1.01232326,\n",
       "        -0.72084641,  0.22629791,  0.41953602, -0.08591188, -0.35760948,\n",
       "         0.00884492,  0.60912418,  0.21366194, -0.14905031, -0.13437678,\n",
       "         0.18509606,  0.22625153, -0.11186177, -0.62624484, -0.82099491,\n",
       "        -0.54819572,  0.05412403,  0.0845082 ,  0.7760008 , -0.30282149,\n",
       "        -0.4655827 ,  0.07534213,  0.15655459,  0.03906637, -0.23873194,\n",
       "        -0.31296003,  0.80511987,  0.74131006,  0.07395512,  0.62408799,\n",
       "         0.14894293,  0.49516168,  0.44643641,  0.66201258,  0.08533894,\n",
       "        -0.06327231, -0.43105519, -0.04730265,  0.16869253, -0.06222732,\n",
       "         0.45443857, -0.01620951,  0.27086148,  0.52900565, -0.69091386,\n",
       "         0.312058  , -0.77723539, -0.53076285,  0.08690648, -0.3157661 ], dtype=float32),\n",
       " array([-0.16375914, -0.04480197, -0.17590798,  0.05336135, -0.1868144 ,\n",
       "         0.12069134, -0.01628878,  0.07135963,  0.19916834, -0.31530991,\n",
       "         0.01394808,  0.13760473,  0.13734831,  0.2111887 ,  0.1180991 ,\n",
       "        -0.03592144, -0.11631356, -0.02271282, -0.09928614, -0.19684179,\n",
       "        -0.02983589, -0.24096391,  0.10088441,  0.15434407,  0.20143206,\n",
       "        -0.20570968,  0.03752742, -0.00368352,  0.08791266, -0.19945216,\n",
       "        -0.06863058, -0.10899385,  0.16114579,  0.11917658, -0.0524314 ,\n",
       "         0.06695865,  0.16598858,  0.04997609,  0.02870859,  0.03867291,\n",
       "        -0.27639583, -0.23651572,  0.14475822, -0.08991364, -0.02977742,\n",
       "         0.05994216,  0.01472436, -0.17123106, -0.20663098, -0.12241367,\n",
       "        -0.25042567, -0.31062335,  0.17329416, -0.04404656, -0.15509121,\n",
       "        -0.0960798 ,  0.33646023,  0.01528406,  0.10438663, -0.02148018,\n",
       "         0.00486988,  0.05909169,  0.33205846, -0.05083362, -0.19889796,\n",
       "        -0.07507222,  0.27975655,  0.05369583,  0.15790895, -0.04667383,\n",
       "        -0.09392804,  0.00385096, -0.04905668,  0.01038084,  0.07218476,\n",
       "        -0.16993907,  0.04922592,  0.2762965 ,  0.04952021, -0.06214403,\n",
       "         0.23192742,  0.08512433, -0.17357099, -0.00438989,  0.22825332,\n",
       "         0.01246523, -0.04207042, -0.15297502,  0.08871312,  0.02643294,\n",
       "        -0.00920338,  0.01942931,  0.10315526,  0.28922093, -0.28383017,\n",
       "        -0.06937574, -0.1032424 , -0.03436097,  0.04581769, -0.30124843], dtype=float32)]"
      ]
     },
     "execution_count": 11,
     "metadata": {},
     "output_type": "execute_result"
    }
   ],
   "source": [
    "#Skip-gram Output\n",
    "non_reduced = [model[voc] for voc in vocab] #The Word2Vec representation after running skip-gram (output)\n",
    "non_reduced[0:5]\n"
   ]
  },
  {
   "cell_type": "markdown",
   "metadata": {},
   "source": [
    "## Principal Component Analysis and Dimensionality Reduction"
   ]
  },
  {
   "cell_type": "code",
   "execution_count": 12,
   "metadata": {
    "collapsed": false,
    "scrolled": true
   },
   "outputs": [
    {
     "data": {
      "text/plain": [
       "array([[-0.08291687,  0.39989504],\n",
       "       [ 0.15361879,  0.33754895],\n",
       "       [-0.94314385, -0.17109944],\n",
       "       [ 1.95748972, -0.57490849],\n",
       "       [ 0.00902071,  0.01970725]])"
      ]
     },
     "execution_count": 12,
     "metadata": {},
     "output_type": "execute_result"
    }
   ],
   "source": [
    "#PCA Model, reducing dimensionality to 2 dimensions\n",
    "pca = PCA(n_components = 2)\n",
    "words_reduced = pca.fit(non_reduced).transform(non_reduced)\n",
    "words_reduced[0:5]"
   ]
  },
  {
   "cell_type": "code",
   "execution_count": 13,
   "metadata": {
    "collapsed": false
   },
   "outputs": [],
   "source": [
    "#Getting X and Y values to plot\n",
    "x_val = [x[0] for x in words_reduced]\n",
    "y_val = [y[0] for y in words_reduced]"
   ]
  },
  {
   "cell_type": "code",
   "execution_count": 14,
   "metadata": {
    "collapsed": false
   },
   "outputs": [
    {
     "data": {
      "text/plain": [
       "['mildli',\n",
       " 'wyclef',\n",
       " 'c05739627',\n",
       " 'hello',\n",
       " 'daylight',\n",
       " 'plane',\n",
       " '9pm',\n",
       " 'c05766135',\n",
       " 'd',\n",
       " 'comptrol',\n",
       " '6040',\n",
       " 'chapel',\n",
       " '217',\n",
       " 'twohour',\n",
       " 'lgbt',\n",
       " '809',\n",
       " 'don',\n",
       " 'c05770489',\n",
       " 'cabinet',\n",
       " 'redlin',\n",
       " 'secret',\n",
       " 'antieurop',\n",
       " '2026476115',\n",
       " 'yanke',\n",
       " 'other',\n",
       " 'fly',\n",
       " 'topic',\n",
       " '184526',\n",
       " 'must',\n",
       " 'textplain',\n",
       " 'persona',\n",
       " 'dakota',\n",
       " 'approxim',\n",
       " 'pure',\n",
       " 'marton',\n",
       " 'spade',\n",
       " 'engel',\n",
       " 'fattal',\n",
       " 'arctic',\n",
       " '425',\n",
       " 'newswikileak',\n",
       " 'northern',\n",
       " 'storm',\n",
       " 'rican',\n",
       " 'ecstat',\n",
       " 'pollard',\n",
       " '2026477209',\n",
       " 'stf',\n",
       " 'learn',\n",
       " 'prosecutor',\n",
       " 'hainan',\n",
       " 'urban',\n",
       " 'fob',\n",
       " 'literari',\n",
       " 'critic',\n",
       " 'fixtur',\n",
       " 'port',\n",
       " 'receiv',\n",
       " 'castrat',\n",
       " 'c05760179',\n",
       " '32009',\n",
       " 'weaker',\n",
       " 'postconflict',\n",
       " 'heck',\n",
       " 'laila',\n",
       " 'amar',\n",
       " 'tirelessli',\n",
       " 'ford',\n",
       " 'hussein',\n",
       " 'ryan',\n",
       " 'cote',\n",
       " 'vers',\n",
       " 'coleman',\n",
       " 'c05775475',\n",
       " 'rather',\n",
       " 'mislead',\n",
       " 'unavoid',\n",
       " 'demagog',\n",
       " 'happen',\n",
       " 'pardon',\n",
       " '28',\n",
       " 'version',\n",
       " 'alarusi',\n",
       " 'calif',\n",
       " 'horrif',\n",
       " 'character',\n",
       " 'sistanc',\n",
       " 'subvert',\n",
       " 'bolkstein',\n",
       " 'oman',\n",
       " 'garden',\n",
       " 'mormon',\n",
       " 'unconvention',\n",
       " 'cunningham',\n",
       " '133718',\n",
       " '837',\n",
       " 'beirn',\n",
       " 'c05769961',\n",
       " 'countryl',\n",
       " 'buffalo']"
      ]
     },
     "execution_count": 14,
     "metadata": {},
     "output_type": "execute_result"
    }
   ],
   "source": [
    "import random\n",
    "words = random.sample(vocab, 10)\n",
    "random.sample(vocab, 100)"
   ]
  },
  {
   "cell_type": "code",
   "execution_count": 15,
   "metadata": {
    "collapsed": false
   },
   "outputs": [
    {
     "data": {
      "image/png": "[encoded data removed]",
      "text/plain": [
       "<matplotlib.figure.Figure at 0x7f1be08f6400>"
      ]
     },
     "metadata": {},
     "output_type": "display_data"
    }
   ],
   "source": [
    "#Annotation and plotting figure on 2-d area with Labels\n",
    "\n",
    "#Creating figure, and plotting scatter\n",
    "fig = plt.figure()\n",
    "#ax = fig.add_subplot(1, 1, 1)\n",
    "plt.scatter(x_val, y_val)\n",
    "\n",
    "#Handpicked words to see comparisons\n",
    "\n",
    "#words = ['magic', 'japanes', 'transnat', 'lawsuit', 'scapegoat', 'sanction', 'coverup', 'lesbian']\n",
    "    #un-comment if want hand-picked\n",
    "words.append(vocab[x_val.index(min(x_val))])\n",
    "words.append(vocab[x_val.index(max(x_val))]) #Appending max and min outliers\n",
    "\n",
    "#Annotation\n",
    "for i, word in enumerate(words):\n",
    "    x = x_val[vocab.index(word)]\n",
    "    y = y_val[vocab.index(word)]\n",
    "    if i % 2 == 1:\n",
    "        offset = (-50, 50)\n",
    "    else:\n",
    "        offset = (50, -50)\n",
    "    plt.annotate(word, xy = (x, y), xytext = offset,\n",
    "            textcoords = 'offset points', ha = 'right', va = 'bottom',\n",
    "            bbox = dict(boxstyle = 'round,pad=0.5', fc = 'grey', alpha = 0.5),\n",
    "            arrowprops = dict(arrowstyle = '->', connectionstyle = 'arc3,rad=0'))\n",
    "plt.show()"
   ]
  },
  {
   "cell_type": "code",
   "execution_count": null,
   "metadata": {
    "collapsed": true
   },
   "outputs": [],
   "source": []
  }
 ],
 "metadata": {
  "anaconda-cloud": {},
  "kernelspec": {
   "display_name": "Python [default]",
   "language": "python",
   "name": "python3"
  },
  "language_info": {
   "codemirror_mode": {
    "name": "ipython",
    "version": 3
   },
   "file_extension": ".py",
   "mimetype": "text/x-python",
   "name": "python",
   "nbconvert_exporter": "python",
   "pygments_lexer": "ipython3",
   "version": "3.5.2"
  }
 },
 "nbformat": 4,
 "nbformat_minor": 1
}
